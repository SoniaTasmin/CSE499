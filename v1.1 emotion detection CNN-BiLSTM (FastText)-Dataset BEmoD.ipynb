{
 "cells": [
  {
   "cell_type": "code",
   "execution_count": 31,
   "id": "0d5f9be8",
   "metadata": {},
   "outputs": [],
   "source": [
    "import re\n",
    "import tqdm\n",
    "import numpy as np\n",
    "import pandas as pd\n",
    "import seaborn as sns\n",
    "import matplotlib.pyplot as plt"
   ]
  },
  {
   "cell_type": "code",
   "execution_count": 32,
   "id": "c6366948",
   "metadata": {},
   "outputs": [],
   "source": [
    "#reading dataset\n",
    "train_df = pd.read_excel('train.xlsx') \n",
    "val_df = pd.read_excel('val.xlsx')\n",
    "test_df = pd.read_excel('test.xlsx')"
   ]
  },
  {
   "cell_type": "code",
   "execution_count": 33,
   "id": "b71de20d",
   "metadata": {},
   "outputs": [
    {
     "data": {
      "text/html": [
       "<div>\n",
       "<style scoped>\n",
       "    .dataframe tbody tr th:only-of-type {\n",
       "        vertical-align: middle;\n",
       "    }\n",
       "\n",
       "    .dataframe tbody tr th {\n",
       "        vertical-align: top;\n",
       "    }\n",
       "\n",
       "    .dataframe thead th {\n",
       "        text-align: right;\n",
       "    }\n",
       "</style>\n",
       "<table border=\"1\" class=\"dataframe\">\n",
       "  <thead>\n",
       "    <tr style=\"text-align: right;\">\n",
       "      <th></th>\n",
       "      <th>Unnamed: 0</th>\n",
       "      <th>cleaned</th>\n",
       "      <th>classes</th>\n",
       "      <th>labels</th>\n",
       "    </tr>\n",
       "  </thead>\n",
       "  <tbody>\n",
       "    <tr>\n",
       "      <th>0</th>\n",
       "      <td>0</td>\n",
       "      <td>মেডিকেলে এসে ঠিক ফ্যামিলির ফটো ফ্রেম এর মতো মন...</td>\n",
       "      <td>sadness</td>\n",
       "      <td>1</td>\n",
       "    </tr>\n",
       "    <tr>\n",
       "      <th>1</th>\n",
       "      <td>1</td>\n",
       "      <td>অনেক দিন পর অন্য রকম অনুভূতি হচ্ছে  কেননা আমার...</td>\n",
       "      <td>sadness</td>\n",
       "      <td>1</td>\n",
       "    </tr>\n",
       "    <tr>\n",
       "      <th>2</th>\n",
       "      <td>2</td>\n",
       "      <td>আগে যতোটা বেশি পছন্দ করতাম দুশ্চরিত্রা মিথিলা ...</td>\n",
       "      <td>disgust</td>\n",
       "      <td>3</td>\n",
       "    </tr>\n",
       "    <tr>\n",
       "      <th>3</th>\n",
       "      <td>3</td>\n",
       "      <td>মাঝে মাঝে মনে হয় তোমাকে চাওয়াটা অনেক ভুল হয়ত ভ...</td>\n",
       "      <td>sadness</td>\n",
       "      <td>1</td>\n",
       "    </tr>\n",
       "    <tr>\n",
       "      <th>4</th>\n",
       "      <td>4</td>\n",
       "      <td>এখানে কাওকে কবর দিয়ো না তাহলে তোমাদের পরিবারের...</td>\n",
       "      <td>fear</td>\n",
       "      <td>5</td>\n",
       "    </tr>\n",
       "  </tbody>\n",
       "</table>\n",
       "</div>"
      ],
      "text/plain": [
       "   Unnamed: 0                                            cleaned  classes  \\\n",
       "0           0  মেডিকেলে এসে ঠিক ফ্যামিলির ফটো ফ্রেম এর মতো মন...  sadness   \n",
       "1           1  অনেক দিন পর অন্য রকম অনুভূতি হচ্ছে  কেননা আমার...  sadness   \n",
       "2           2  আগে যতোটা বেশি পছন্দ করতাম দুশ্চরিত্রা মিথিলা ...  disgust   \n",
       "3           3  মাঝে মাঝে মনে হয় তোমাকে চাওয়াটা অনেক ভুল হয়ত ভ...  sadness   \n",
       "4           4  এখানে কাওকে কবর দিয়ো না তাহলে তোমাদের পরিবারের...     fear   \n",
       "\n",
       "   labels  \n",
       "0       1  \n",
       "1       1  \n",
       "2       3  \n",
       "3       1  \n",
       "4       5  "
      ]
     },
     "execution_count": 33,
     "metadata": {},
     "output_type": "execute_result"
    }
   ],
   "source": [
    "train_df.head()"
   ]
  },
  {
   "cell_type": "code",
   "execution_count": 34,
   "id": "5f70cdf8",
   "metadata": {},
   "outputs": [
    {
     "name": "stdout",
     "output_type": "stream",
     "text": [
      "<class 'pandas.core.frame.DataFrame'>\n",
      "RangeIndex: 4994 entries, 0 to 4993\n",
      "Data columns (total 4 columns):\n",
      " #   Column      Non-Null Count  Dtype \n",
      "---  ------      --------------  ----- \n",
      " 0   Unnamed: 0  4994 non-null   int64 \n",
      " 1   cleaned     4994 non-null   object\n",
      " 2   classes     4994 non-null   object\n",
      " 3   labels      4994 non-null   int64 \n",
      "dtypes: int64(2), object(2)\n",
      "memory usage: 156.2+ KB\n",
      "\n",
      "<class 'pandas.core.frame.DataFrame'>\n",
      "RangeIndex: 625 entries, 0 to 624\n",
      "Data columns (total 4 columns):\n",
      " #   Column      Non-Null Count  Dtype \n",
      "---  ------      --------------  ----- \n",
      " 0   Unnamed: 0  625 non-null    int64 \n",
      " 1   cleaned     625 non-null    object\n",
      " 2   classes     625 non-null    object\n",
      " 3   labels      625 non-null    int64 \n",
      "dtypes: int64(2), object(2)\n",
      "memory usage: 19.7+ KB\n",
      "\n",
      "<class 'pandas.core.frame.DataFrame'>\n",
      "RangeIndex: 624 entries, 0 to 623\n",
      "Data columns (total 4 columns):\n",
      " #   Column      Non-Null Count  Dtype \n",
      "---  ------      --------------  ----- \n",
      " 0   Unnamed: 0  624 non-null    int64 \n",
      " 1   cleaned     624 non-null    object\n",
      " 2   classes     624 non-null    object\n",
      " 3   labels      624 non-null    int64 \n",
      "dtypes: int64(2), object(2)\n",
      "memory usage: 19.6+ KB\n",
      "\n"
     ]
    }
   ],
   "source": [
    "#checking for ull values\n",
    "train_df.info()\n",
    "print()\n",
    "test_df.info()\n",
    "print()\n",
    "val_df.info()\n",
    "print()"
   ]
  },
  {
   "cell_type": "code",
   "execution_count": 35,
   "id": "f7dc5157",
   "metadata": {},
   "outputs": [
    {
     "data": {
      "text/plain": [
       "disgust     1233\n",
       "sadness      942\n",
       "joy          908\n",
       "fear         700\n",
       "anger        621\n",
       "surprise     590\n",
       "Name: classes, dtype: int64"
      ]
     },
     "execution_count": 35,
     "metadata": {},
     "output_type": "execute_result"
    }
   ],
   "source": [
    "train_df[\"classes\"].value_counts()"
   ]
  },
  {
   "cell_type": "code",
   "execution_count": 36,
   "id": "7d5d210e",
   "metadata": {},
   "outputs": [
    {
     "data": {
      "text/plain": [
       "disgust     165\n",
       "sadness     119\n",
       "joy         114\n",
       "fear         83\n",
       "surprise     73\n",
       "anger        71\n",
       "Name: classes, dtype: int64"
      ]
     },
     "execution_count": 36,
     "metadata": {},
     "output_type": "execute_result"
    }
   ],
   "source": [
    "test_df[\"classes\"].value_counts()"
   ]
  },
  {
   "cell_type": "code",
   "execution_count": 37,
   "id": "3f417088",
   "metadata": {},
   "outputs": [
    {
     "data": {
      "text/plain": [
       "disgust     155\n",
       "sadness     129\n",
       "joy         120\n",
       "fear         89\n",
       "anger        67\n",
       "surprise     64\n",
       "Name: classes, dtype: int64"
      ]
     },
     "execution_count": 37,
     "metadata": {},
     "output_type": "execute_result"
    }
   ],
   "source": [
    "val_df[\"classes\"].value_counts()"
   ]
  },
  {
   "cell_type": "code",
   "execution_count": 38,
   "id": "053b4540",
   "metadata": {},
   "outputs": [
    {
     "name": "stdout",
     "output_type": "stream",
     "text": [
      "অনেক দিন পর অন্য রকম অনুভূতি হচ্ছে  কেননা আমার সদ্য পাশ করা শিক্ষার্থীর মত এখন আমিও বেকার বেকার পরিচয় দিয়ে আম্মার কাছ থেকে আজ পঞ্চাশ টাকা ডাকাতি করলাম \n"
     ]
    }
   ],
   "source": [
    "#sample text from dataset\n",
    "sample = train_df[\"cleaned\"][1]\n",
    "print(sample)"
   ]
  },
  {
   "cell_type": "code",
   "execution_count": 39,
   "id": "46623438",
   "metadata": {},
   "outputs": [],
   "source": [
    "x_train, x_test, y_train, y_test = train_df[\"cleaned\"], val_df[\"cleaned\"], train_df[\"labels\"], val_df[\"labels\"]"
   ]
  },
  {
   "cell_type": "code",
   "execution_count": 40,
   "id": "cb81d142",
   "metadata": {},
   "outputs": [],
   "source": [
    "from keras.utils import np_utils\n",
    "from keras.preprocessing.text import Tokenizer\n",
    "from keras.preprocessing.sequence import pad_sequences\n",
    "\n",
    "import tensorflow as tf\n",
    "from keras import layers\n",
    "from keras.models import Sequential\n",
    "\n",
    "EPOCHS= 30\n",
    "act= \"swish\"\n",
    "opt= tf.keras.optimizers.Adam(learning_rate=0.001)"
   ]
  },
  {
   "cell_type": "code",
   "execution_count": 41,
   "id": "5b775aeb",
   "metadata": {},
   "outputs": [],
   "source": [
    "#converting text to vectors via tokenization\n",
    "tokenizer = Tokenizer()\n",
    "tokenizer.fit_on_texts(x_train)\n",
    "\n",
    "X_train = tokenizer.texts_to_sequences(x_train)\n",
    "X_test = tokenizer.texts_to_sequences(x_test)\n",
    "TEST = tokenizer.texts_to_sequences(test_df[\"cleaned\"]) \n",
    "\n",
    "vocab_size = len(tokenizer.word_index) + 1 "
   ]
  },
  {
   "cell_type": "code",
   "execution_count": 42,
   "id": "79603d3f",
   "metadata": {},
   "outputs": [
    {
     "name": "stdout",
     "output_type": "stream",
     "text": [
      "Max len: 215\n"
     ]
    }
   ],
   "source": [
    "#calculating max length of the vector\n",
    "lens_train = [len(i) for i in X_train]\n",
    "lens_test = [len(i) for i in X_test]\n",
    "lens = lens_train + lens_test\n",
    "\n",
    "maxlen = np.max(lens)\n",
    "\n",
    "print('Max len:', maxlen)"
   ]
  },
  {
   "cell_type": "code",
   "execution_count": 43,
   "id": "bb495e40",
   "metadata": {},
   "outputs": [],
   "source": [
    "#Zero padding every vector so that they are the same size\n",
    "X_train = pad_sequences(X_train, padding='post', maxlen=maxlen)\n",
    "X_test = pad_sequences(X_test, padding='post', maxlen=maxlen)\n",
    "TEST = pad_sequences(TEST, padding='post', maxlen=maxlen)"
   ]
  },
  {
   "cell_type": "code",
   "execution_count": 44,
   "id": "bbfc3acc",
   "metadata": {},
   "outputs": [],
   "source": [
    "#One Hot Encoding integer labels\n",
    "dummy_y_test = np_utils.to_categorical(y_test)\n",
    "dummy_y_train = np_utils.to_categorical(y_train)"
   ]
  },
  {
   "cell_type": "code",
   "execution_count": 46,
   "id": "a914d44d",
   "metadata": {},
   "outputs": [],
   "source": [
    "#reading fasttext\n",
    "def get_embedding_vectors(tokenizer, dim=300):\n",
    "    embedding_index = {}\n",
    "    with open('cc.bn.300.vec','r', encoding=\"cp437\", errors='ignore') as f:\n",
    "        for line in tqdm.tqdm(f, \"Reading fasttext\"):\n",
    "            values = line.split()\n",
    "            word = ''.join(values[:-300])\n",
    "            vectors = np.asarray(values[-300:], dtype='float32')\n",
    "            embedding_index[word] = vectors\n",
    "\n",
    "    word_index = tokenizer.word_index\n",
    "    embedding_matrix = np.zeros((len(word_index)+1, dim))\n",
    "    for word, i in word_index.items():\n",
    "        embedding_vector = embedding_index.get(word)\n",
    "        if embedding_vector is not None:\n",
    "            # words not found will be 0s\n",
    "            embedding_matrix[i] = embedding_vector\n",
    "          \n",
    "    return embedding_matrix"
   ]
  },
  {
   "cell_type": "code",
   "execution_count": 47,
   "id": "c7afb8fc",
   "metadata": {},
   "outputs": [
    {
     "name": "stderr",
     "output_type": "stream",
     "text": [
      "Reading fasttext: 1468579it [02:28, 9900.08it/s] \n"
     ]
    }
   ],
   "source": [
    "embedding_matrix = get_embedding_vectors(tokenizer)"
   ]
  },
  {
   "cell_type": "code",
   "execution_count": 48,
   "id": "9a10d6e8",
   "metadata": {},
   "outputs": [
    {
     "name": "stdout",
     "output_type": "stream",
     "text": [
      "Model: \"sequential_1\"\n",
      "_________________________________________________________________\n",
      " Layer (type)                Output Shape              Param #   \n",
      "=================================================================\n",
      " embedding_1 (Embedding)     (None, 215, 300)          6926100   \n",
      "                                                                 \n",
      " dropout_5 (Dropout)         (None, 215, 300)          0         \n",
      "                                                                 \n",
      " conv1d_2 (Conv1D)           (None, 213, 3)            2703      \n",
      "                                                                 \n",
      " max_pooling1d_2 (MaxPooling  (None, 71, 3)            0         \n",
      " 1D)                                                             \n",
      "                                                                 \n",
      " dropout_6 (Dropout)         (None, 71, 3)             0         \n",
      "                                                                 \n",
      " conv1d_3 (Conv1D)           (None, 69, 3)             30        \n",
      "                                                                 \n",
      " max_pooling1d_3 (MaxPooling  (None, 23, 3)            0         \n",
      " 1D)                                                             \n",
      "                                                                 \n",
      " dropout_7 (Dropout)         (None, 23, 3)             0         \n",
      "                                                                 \n",
      " bidirectional_1 (Bidirectio  (None, 512)              532480    \n",
      " nal)                                                            \n",
      "                                                                 \n",
      " dropout_8 (Dropout)         (None, 512)               0         \n",
      "                                                                 \n",
      " dense_2 (Dense)             (None, 256)               131328    \n",
      "                                                                 \n",
      " dropout_9 (Dropout)         (None, 256)               0         \n",
      "                                                                 \n",
      " dense_3 (Dense)             (None, 6)                 1542      \n",
      "                                                                 \n",
      "=================================================================\n",
      "Total params: 7,594,183\n",
      "Trainable params: 7,594,183\n",
      "Non-trainable params: 0\n",
      "_________________________________________________________________\n"
     ]
    }
   ],
   "source": [
    "#defining CNN-BiLSTM model\n",
    "embedding_dim = 300\n",
    "\n",
    "model = Sequential()\n",
    "model.add(layers.Embedding(input_dim=vocab_size, output_dim=embedding_dim, weights = [embedding_matrix], input_length=maxlen))\n",
    "model.add(layers.Dropout(0.3)) \n",
    "model.add(layers.Conv1D(filters=3, kernel_size=3, activation=act)) \n",
    "model.add(layers.MaxPool1D(pool_size=3)) \n",
    "model.add(layers.Dropout(0.3))\n",
    "model.add(layers.Conv1D(filters=3, kernel_size=3, activation=act)) \n",
    "model.add(layers.MaxPool1D(pool_size=3)) \n",
    "model.add(layers.Dropout(0.3))\n",
    "model.add(layers.Bidirectional(layers.LSTM(256, recurrent_dropout=0.3)))\n",
    "model.add(layers.Dropout(0.3))\n",
    "model.add(layers.Dense(256,activation=act)) \n",
    "model.add(layers.Dropout(0.3)) \n",
    "model.add(layers.Dense(6, activation=\"softmax\"))\n",
    "model.compile(optimizer=opt, loss=\"categorical_crossentropy\",metrics=[\"accuracy\"])\n",
    "model.summary()"
   ]
  },
  {
   "cell_type": "code",
   "execution_count": 49,
   "id": "079b4cb1",
   "metadata": {},
   "outputs": [],
   "source": [
    "checkpoint_filepath = './Checkpoint/checkpoint'\n",
    "model_checkpoint_callback = tf.keras.callbacks.ModelCheckpoint(\n",
    "    filepath=checkpoint_filepath,\n",
    "    save_weights_only=True,\n",
    "    monitor='val_accuracy',\n",
    "    mode='max',\n",
    "    save_best_only=True)"
   ]
  },
  {
   "cell_type": "code",
   "execution_count": 50,
   "id": "0fbfa69e",
   "metadata": {},
   "outputs": [
    {
     "name": "stdout",
     "output_type": "stream",
     "text": [
      "Epoch 1/30\n",
      "313/313 [==============================] - 78s 238ms/step - loss: 1.7548 - accuracy: 0.2411 - val_loss: 1.6891 - val_accuracy: 0.2869\n",
      "Epoch 2/30\n",
      "313/313 [==============================] - 74s 238ms/step - loss: 1.5979 - accuracy: 0.3322 - val_loss: 1.5366 - val_accuracy: 0.3766\n",
      "Epoch 3/30\n",
      "313/313 [==============================] - 75s 241ms/step - loss: 1.3361 - accuracy: 0.4119 - val_loss: 1.4945 - val_accuracy: 0.4183\n",
      "Epoch 4/30\n",
      "313/313 [==============================] - 76s 241ms/step - loss: 1.1862 - accuracy: 0.4724 - val_loss: 1.5715 - val_accuracy: 0.3766\n",
      "Epoch 5/30\n",
      "313/313 [==============================] - 75s 238ms/step - loss: 1.1007 - accuracy: 0.4942 - val_loss: 1.6466 - val_accuracy: 0.3910\n",
      "Epoch 6/30\n",
      "313/313 [==============================] - 75s 239ms/step - loss: 1.0175 - accuracy: 0.5332 - val_loss: 1.6750 - val_accuracy: 0.4022\n",
      "Epoch 7/30\n",
      "313/313 [==============================] - 75s 240ms/step - loss: 0.9795 - accuracy: 0.5461 - val_loss: 1.7023 - val_accuracy: 0.3942\n",
      "Epoch 8/30\n",
      "313/313 [==============================] - 74s 237ms/step - loss: 0.9420 - accuracy: 0.5797 - val_loss: 1.7965 - val_accuracy: 0.3798\n",
      "Epoch 9/30\n",
      "313/313 [==============================] - 74s 238ms/step - loss: 0.8961 - accuracy: 0.6077 - val_loss: 1.8035 - val_accuracy: 0.3990\n",
      "Epoch 10/30\n",
      "313/313 [==============================] - 75s 238ms/step - loss: 0.8614 - accuracy: 0.6183 - val_loss: 2.0270 - val_accuracy: 0.3894\n",
      "Epoch 11/30\n",
      "313/313 [==============================] - 74s 237ms/step - loss: 0.8555 - accuracy: 0.6340 - val_loss: 1.9844 - val_accuracy: 0.3542\n",
      "Epoch 12/30\n",
      "313/313 [==============================] - 79s 251ms/step - loss: 0.7993 - accuracy: 0.6446 - val_loss: 2.0802 - val_accuracy: 0.3846\n",
      "Epoch 13/30\n",
      "313/313 [==============================] - 84s 270ms/step - loss: 0.7586 - accuracy: 0.6696 - val_loss: 2.2894 - val_accuracy: 0.3734\n",
      "Epoch 14/30\n",
      "313/313 [==============================] - 83s 265ms/step - loss: 0.7647 - accuracy: 0.6744 - val_loss: 2.1218 - val_accuracy: 0.3910\n",
      "Epoch 15/30\n",
      "313/313 [==============================] - 84s 268ms/step - loss: 0.7360 - accuracy: 0.6924 - val_loss: 2.2953 - val_accuracy: 0.3574\n",
      "Epoch 16/30\n",
      "313/313 [==============================] - 84s 270ms/step - loss: 0.7260 - accuracy: 0.6850 - val_loss: 2.2061 - val_accuracy: 0.3766\n",
      "Epoch 17/30\n",
      "313/313 [==============================] - 86s 274ms/step - loss: 0.6932 - accuracy: 0.7036 - val_loss: 2.4368 - val_accuracy: 0.3686\n",
      "Epoch 18/30\n",
      "313/313 [==============================] - 85s 272ms/step - loss: 0.6765 - accuracy: 0.7076 - val_loss: 2.6267 - val_accuracy: 0.3061\n",
      "Epoch 19/30\n",
      "313/313 [==============================] - 84s 268ms/step - loss: 0.6711 - accuracy: 0.7187 - val_loss: 2.4788 - val_accuracy: 0.2981\n",
      "Epoch 20/30\n",
      "313/313 [==============================] - 83s 264ms/step - loss: 0.6423 - accuracy: 0.7285 - val_loss: 2.5681 - val_accuracy: 0.3654\n",
      "Epoch 21/30\n",
      "313/313 [==============================] - 79s 252ms/step - loss: 0.6351 - accuracy: 0.7333 - val_loss: 2.6455 - val_accuracy: 0.3397\n",
      "Epoch 22/30\n",
      "313/313 [==============================] - 76s 242ms/step - loss: 0.6130 - accuracy: 0.7415 - val_loss: 2.4948 - val_accuracy: 0.2660\n",
      "Epoch 23/30\n",
      "313/313 [==============================] - 76s 241ms/step - loss: 0.6178 - accuracy: 0.7445 - val_loss: 2.5326 - val_accuracy: 0.3189\n",
      "Epoch 24/30\n",
      "313/313 [==============================] - 76s 242ms/step - loss: 0.6012 - accuracy: 0.7543 - val_loss: 2.5772 - val_accuracy: 0.3189\n",
      "Epoch 25/30\n",
      "313/313 [==============================] - 75s 241ms/step - loss: 0.5861 - accuracy: 0.7597 - val_loss: 2.5556 - val_accuracy: 0.3221\n",
      "Epoch 26/30\n",
      "313/313 [==============================] - 76s 242ms/step - loss: 0.5698 - accuracy: 0.7723 - val_loss: 2.8592 - val_accuracy: 0.3253\n",
      "Epoch 27/30\n",
      "313/313 [==============================] - 79s 253ms/step - loss: 0.5755 - accuracy: 0.7699 - val_loss: 2.7087 - val_accuracy: 0.2917\n",
      "Epoch 28/30\n",
      "313/313 [==============================] - 82s 261ms/step - loss: 0.5454 - accuracy: 0.7773 - val_loss: 2.8522 - val_accuracy: 0.2997\n",
      "Epoch 29/30\n",
      "313/313 [==============================] - 82s 261ms/step - loss: 0.5466 - accuracy: 0.7803 - val_loss: 2.8151 - val_accuracy: 0.2837\n",
      "Epoch 30/30\n",
      "313/313 [==============================] - 75s 238ms/step - loss: 0.5415 - accuracy: 0.7867 - val_loss: 2.8553 - val_accuracy: 0.3253\n",
      "Training Accuracy: 0.6964\n",
      "Testing Accuracy:  0.3253\n"
     ]
    }
   ],
   "source": [
    "history = model.fit(X_train, dummy_y_train, epochs=EPOCHS, verbose=1, validation_data=(X_test, dummy_y_test), batch_size=16, callbacks=[model_checkpoint_callback]) \n",
    "loss, accuracy = model.evaluate(X_train, dummy_y_train, verbose=0)\n",
    "print(\"Training Accuracy: {:.4f}\".format(accuracy))\n",
    "loss, accuracy = model.evaluate(X_test, dummy_y_test, verbose=0)\n",
    "print(\"Testing Accuracy:  {:.4f}\".format(accuracy))"
   ]
  },
  {
   "cell_type": "code",
   "execution_count": 51,
   "id": "cb6cbf4b",
   "metadata": {},
   "outputs": [],
   "source": [
    "def PlotGraph(history):\n",
    "    acc = history.history['accuracy']\n",
    "    val_acc = history.history['val_accuracy']\n",
    "    loss = history.history['loss']\n",
    "    val_loss = history.history['val_loss']\n",
    "    x = range(1, len(acc) + 1)\n",
    "\n",
    "    plt.figure(figsize=(12, 5))\n",
    "    plt.subplot(1, 2, 1)\n",
    "    plt.plot(x, acc, 'g', label='Training acc')\n",
    "    plt.plot(x, val_acc, 'b', label='Validation acc')\n",
    "    plt.title('Training and validation accuracy')\n",
    "    plt.legend()\n",
    "    plt.subplot(1, 2, 2)\n",
    "    plt.plot(x, loss, 'g', label='Training loss')\n",
    "    plt.plot(x, val_loss, 'b', label='Validation loss')\n",
    "    plt.title('Training and validation loss')\n",
    "    plt.legend()"
   ]
  },
  {
   "cell_type": "code",
   "execution_count": 52,
   "id": "a3a1d6c9",
   "metadata": {},
   "outputs": [
    {
     "data": {
      "image/png": "[encoded data removed]",
      "text/plain": [
       "<Figure size 864x360 with 2 Axes>"
      ]
     },
     "metadata": {
      "needs_background": "light"
     },
     "output_type": "display_data"
    }
   ],
   "source": [
    "PlotGraph(history)"
   ]
  },
  {
   "cell_type": "code",
   "execution_count": 53,
   "id": "b2244f33",
   "metadata": {},
   "outputs": [
    {
     "name": "stdout",
     "output_type": "stream",
     "text": [
      "Best Accuracy Achieved by Model: 0.41826921701431274\n"
     ]
    }
   ],
   "source": [
    "print(f\"Best Accuracy Achieved by Model: {max(history.history['val_accuracy'])}\")"
   ]
  },
  {
   "cell_type": "code",
   "execution_count": 54,
   "id": "4eea3c67",
   "metadata": {},
   "outputs": [
    {
     "data": {
      "text/plain": [
       "<tensorflow.python.training.tracking.util.CheckpointLoadStatus at 0x1e29c8f0610>"
      ]
     },
     "execution_count": 54,
     "metadata": {},
     "output_type": "execute_result"
    }
   ],
   "source": [
    "model.load_weights(checkpoint_filepath)"
   ]
  },
  {
   "cell_type": "code",
   "execution_count": 55,
   "id": "1f4cc737",
   "metadata": {},
   "outputs": [
    {
     "data": {
      "text/plain": [
       "array([0, 1, 0, 3, 1, 1, 0, 1, 1, 0, 3, 3, 3, 3, 3, 1, 3, 3, 3, 1, 3, 1,\n",
       "       3, 1, 0, 0, 3, 1, 1, 3, 0, 1, 0, 0, 3, 1, 0, 3, 0, 3, 1, 1, 0, 1,\n",
       "       0, 1, 0, 0, 0, 0, 3, 0, 1, 3, 0, 0, 1, 0, 3, 3, 1, 1, 3, 0, 3, 0,\n",
       "       1, 0, 0, 1, 0, 0, 1, 0, 3, 1, 0, 0, 0, 3, 3, 3, 0, 0, 1, 1, 0, 3,\n",
       "       0, 3, 0, 3, 1, 0, 1, 0, 1, 0, 1, 0, 0, 0, 3, 1, 1, 1, 0, 0, 3, 0,\n",
       "       3, 1, 1, 0, 1, 1, 0, 1, 0, 0, 0, 0, 1, 0, 1, 1, 3, 3, 0, 1, 0, 3,\n",
       "       1, 3, 0, 0, 1, 0, 3, 1, 1, 1, 0, 3, 1, 1, 0, 0, 0, 0, 0, 0, 0, 0,\n",
       "       0, 0, 0, 3, 0, 0, 3, 3, 3, 3, 0, 0, 0, 0, 0, 0, 0, 1, 0, 0, 0, 0,\n",
       "       0, 0, 1, 3, 3, 1, 3, 0, 0, 0, 1, 1, 0, 0, 0, 3, 0, 0, 1, 3, 3, 0,\n",
       "       3, 1, 0, 0, 1, 3, 1, 1, 0, 3, 0, 0, 3, 0, 0, 3, 1, 0, 0, 0, 1, 3,\n",
       "       0, 3, 3, 3, 0, 0, 1, 3, 1, 0, 3, 3, 0, 1, 3, 3, 3, 0, 3, 0, 1, 0,\n",
       "       3, 3, 0, 0, 3, 0, 1, 0, 1, 1, 3, 0, 3, 3, 1, 0, 1, 0, 0, 3, 0, 1,\n",
       "       1, 1, 3, 3, 1, 3, 0, 4, 3, 0, 3, 3, 0, 3, 1, 3, 0, 0, 0, 1, 3, 0,\n",
       "       3, 1, 3, 0, 3, 1, 1, 0, 0, 3, 3, 1, 0, 3, 1, 3, 0, 1, 1, 0, 1, 1,\n",
       "       1, 0, 1, 0, 0, 1, 3, 3, 3, 0, 0, 3, 0, 3, 0, 3, 1, 0, 0, 1, 3, 0,\n",
       "       0, 1, 3, 0, 1, 0, 0, 0, 0, 0, 3, 1, 0, 1, 0, 1, 1, 0, 3, 0, 0, 3,\n",
       "       0, 3, 0, 0, 1, 1, 0, 0, 0, 0, 0, 1, 0, 3, 1, 1, 0, 3, 3, 3, 3, 1,\n",
       "       0, 0, 0, 3, 3, 1, 3, 1, 0, 0, 0, 1, 0, 3, 3, 0, 0, 0, 1, 0, 1, 1,\n",
       "       0, 0, 3, 1, 0, 3, 1, 1, 0, 3, 0, 0, 1, 1, 3, 3, 3, 0, 0, 0, 3, 0,\n",
       "       0, 0, 1, 0, 1, 1, 0, 0, 1, 3, 1, 0, 1, 1, 1, 0, 3, 0, 3, 0, 0, 0,\n",
       "       3, 0, 1, 0, 0, 1, 0, 1, 0, 1, 1, 1, 3, 0, 1, 0, 0, 0, 3, 0, 0, 3,\n",
       "       0, 1, 1, 0, 1, 0, 3, 0, 0, 1, 0, 0, 3, 3, 3, 3, 1, 3, 0, 0, 0, 0,\n",
       "       1, 0, 1, 3, 0, 0, 3, 3, 1, 3, 0, 3, 0, 3, 0, 3, 1, 0, 3, 0, 1, 1,\n",
       "       0, 0, 3, 0, 1, 1, 1, 0, 0, 0, 3, 0, 0, 3, 0, 0, 3, 3, 4, 3, 3, 1,\n",
       "       0, 1, 3, 0, 1, 1, 1, 0, 0, 0, 3, 1, 1, 3, 3, 3, 0, 1, 0, 0, 0, 3,\n",
       "       3, 1, 3, 0, 3, 1, 3, 0, 0, 0, 3, 0, 0, 0, 0, 1, 0, 1, 1, 0, 0, 3,\n",
       "       3, 3, 0, 0, 1, 0, 3, 0, 1, 0, 0, 3, 1, 3, 3, 0, 0, 3, 1, 3, 1, 3,\n",
       "       3, 1, 0, 0, 1, 1, 0, 3, 1, 3, 3, 0, 1, 0, 3, 1, 3, 0, 3, 3, 3, 3,\n",
       "       0, 1, 3, 0, 0, 0, 0, 1, 0], dtype=int64)"
      ]
     },
     "execution_count": 55,
     "metadata": {},
     "output_type": "execute_result"
    }
   ],
   "source": [
    "predict = model.predict(TEST)\n",
    "predict_class = np.argmax(predict, axis=1)\n",
    "predict_class = np.array(predict_class)\n",
    "predict_class"
   ]
  },
  {
   "cell_type": "code",
   "execution_count": 56,
   "id": "07fbb8f2",
   "metadata": {},
   "outputs": [
    {
     "data": {
      "text/plain": [
       "array([[ 82,  22,   0,  10,   0,   0],\n",
       "       [ 44,  51,   0,  23,   1,   0],\n",
       "       [ 50,  17,   0,   6,   0,   0],\n",
       "       [ 17,  37,   0, 111,   0,   0],\n",
       "       [ 17,  28,   0,  25,   1,   0],\n",
       "       [ 67,  14,   0,   2,   0,   0]], dtype=int64)"
      ]
     },
     "execution_count": 56,
     "metadata": {},
     "output_type": "execute_result"
    }
   ],
   "source": [
    "from sklearn.metrics import confusion_matrix\n",
    "\n",
    "cm = confusion_matrix(test_df[\"labels\"], predict_class)\n",
    "cm"
   ]
  },
  {
   "cell_type": "code",
   "execution_count": 57,
   "id": "d6d34c1e",
   "metadata": {},
   "outputs": [
    {
     "data": {
      "text/plain": [
       "<AxesSubplot:>"
      ]
     },
     "execution_count": 57,
     "metadata": {},
     "output_type": "execute_result"
    },
    {
     "data": {
      "image/png": "[encoded data removed]",
      "text/plain": [
       "<Figure size 720x504 with 2 Axes>"
      ]
     },
     "metadata": {
      "needs_background": "light"
     },
     "output_type": "display_data"
    }
   ],
   "source": [
    "df_cm = pd.DataFrame(cm, index=[\"anger\", \"fear\", \"joy\", \"disgust\", \"sadness\", \"surprise\"], columns=[\"anger\", \"fear\", \"joy\", \"disgust\", \"sadness\", \"surprise\"])\n",
    "plt.figure(figsize = (10,7))\n",
    "sns.heatmap(df_cm,annot=True, fmt =\"d\")"
   ]
  },
  {
   "cell_type": "code",
   "execution_count": 58,
   "id": "cc35fbc5",
   "metadata": {},
   "outputs": [
    {
     "name": "stdout",
     "output_type": "stream",
     "text": [
      "              precision    recall  f1-score   support\n",
      "\n",
      "       anger       0.30      0.72      0.42       114\n",
      "        fear       0.30      0.43      0.35       119\n",
      "         joy       0.00      0.00      0.00        73\n",
      "     disgust       0.63      0.67      0.65       165\n",
      "     sadness       0.50      0.01      0.03        71\n",
      "    surprise       0.00      0.00      0.00        83\n",
      "\n",
      "    accuracy                           0.39       625\n",
      "   macro avg       0.29      0.31      0.24       625\n",
      "weighted avg       0.33      0.39      0.32       625\n",
      "\n"
     ]
    },
    {
     "name": "stderr",
     "output_type": "stream",
     "text": [
      "C:\\Users\\Jasim\\anaconda3\\lib\\site-packages\\sklearn\\metrics\\_classification.py:1245: UndefinedMetricWarning: Precision and F-score are ill-defined and being set to 0.0 in labels with no predicted samples. Use `zero_division` parameter to control this behavior.\n",
      "  _warn_prf(average, modifier, msg_start, len(result))\n",
      "C:\\Users\\Jasim\\anaconda3\\lib\\site-packages\\sklearn\\metrics\\_classification.py:1245: UndefinedMetricWarning: Precision and F-score are ill-defined and being set to 0.0 in labels with no predicted samples. Use `zero_division` parameter to control this behavior.\n",
      "  _warn_prf(average, modifier, msg_start, len(result))\n",
      "C:\\Users\\Jasim\\anaconda3\\lib\\site-packages\\sklearn\\metrics\\_classification.py:1245: UndefinedMetricWarning: Precision and F-score are ill-defined and being set to 0.0 in labels with no predicted samples. Use `zero_division` parameter to control this behavior.\n",
      "  _warn_prf(average, modifier, msg_start, len(result))\n"
     ]
    }
   ],
   "source": [
    "from sklearn.metrics import classification_report\n",
    "\n",
    "print(classification_report(test_df[\"labels\"], predict_class, target_names =[\"anger\", \"fear\", \"joy\", \"disgust\", \"sadness\", \"surprise\"]))"
   ]
  },
  {
   "cell_type": "code",
   "execution_count": null,
   "id": "6ee1c297",
   "metadata": {},
   "outputs": [],
   "source": []
  }
 ],
 "metadata": {
  "kernelspec": {
   "display_name": "Python 3",
   "language": "python",
   "name": "python3"
  },
  "language_info": {
   "codemirror_mode": {
    "name": "ipython",
    "version": 3
   },
   "file_extension": ".py",
   "mimetype": "text/x-python",
   "name": "python",
   "nbconvert_exporter": "python",
   "pygments_lexer": "ipython3",
   "version": "3.8.8"
  }
 },
 "nbformat": 4,
 "nbformat_minor": 5
}

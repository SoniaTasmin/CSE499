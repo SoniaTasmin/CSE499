{
 "cells": [
  {
   "cell_type": "code",
   "execution_count": 1,
   "id": "0d5f9be8",
   "metadata": {},
   "outputs": [],
   "source": [
    "import re\n",
    "import tqdm\n",
    "import numpy as np\n",
    "import pandas as pd\n",
    "import seaborn as sns\n",
    "import matplotlib.pyplot as plt"
   ]
  },
  {
   "cell_type": "code",
   "execution_count": 2,
   "id": "c6366948",
   "metadata": {},
   "outputs": [],
   "source": [
    "#reading dataset\n",
    "train_df = pd.read_excel('trainv1.xlsx') \n",
    "#val_df = pd.read_excel('val.xlsx')\n",
    "test_df = pd.read_excel('test.xlsx')"
   ]
  },
  {
   "cell_type": "code",
   "execution_count": 3,
   "id": "b71de20d",
   "metadata": {},
   "outputs": [
    {
     "data": {
      "text/html": [
       "<div>\n",
       "<style scoped>\n",
       "    .dataframe tbody tr th:only-of-type {\n",
       "        vertical-align: middle;\n",
       "    }\n",
       "\n",
       "    .dataframe tbody tr th {\n",
       "        vertical-align: top;\n",
       "    }\n",
       "\n",
       "    .dataframe thead th {\n",
       "        text-align: right;\n",
       "    }\n",
       "</style>\n",
       "<table border=\"1\" class=\"dataframe\">\n",
       "  <thead>\n",
       "    <tr style=\"text-align: right;\">\n",
       "      <th></th>\n",
       "      <th>Unnamed: 0</th>\n",
       "      <th>cleaned</th>\n",
       "      <th>classes</th>\n",
       "      <th>labels</th>\n",
       "    </tr>\n",
       "  </thead>\n",
       "  <tbody>\n",
       "    <tr>\n",
       "      <th>0</th>\n",
       "      <td>0</td>\n",
       "      <td>মেডিকেলে এসে ঠিক ফ্যামিলির ফটো ফ্রেম এর মতো মন...</td>\n",
       "      <td>sadness</td>\n",
       "      <td>1</td>\n",
       "    </tr>\n",
       "    <tr>\n",
       "      <th>1</th>\n",
       "      <td>1</td>\n",
       "      <td>অনেক দিন পর অন্য রকম অনুভূতি হচ্ছে  কেননা আমার...</td>\n",
       "      <td>sadness</td>\n",
       "      <td>1</td>\n",
       "    </tr>\n",
       "    <tr>\n",
       "      <th>2</th>\n",
       "      <td>2</td>\n",
       "      <td>আগে যতোটা বেশি পছন্দ করতাম দুশ্চরিত্রা মিথিলা ...</td>\n",
       "      <td>disgust</td>\n",
       "      <td>3</td>\n",
       "    </tr>\n",
       "    <tr>\n",
       "      <th>3</th>\n",
       "      <td>3</td>\n",
       "      <td>মাঝে মাঝে মনে হয় তোমাকে চাওয়াটা অনেক ভুল হয়ত ভ...</td>\n",
       "      <td>sadness</td>\n",
       "      <td>1</td>\n",
       "    </tr>\n",
       "    <tr>\n",
       "      <th>4</th>\n",
       "      <td>4</td>\n",
       "      <td>এখানে কাওকে কবর দিয়ো না তাহলে তোমাদের পরিবারের...</td>\n",
       "      <td>fear</td>\n",
       "      <td>5</td>\n",
       "    </tr>\n",
       "  </tbody>\n",
       "</table>\n",
       "</div>"
      ],
      "text/plain": [
       "   Unnamed: 0                                            cleaned  classes  \\\n",
       "0           0  মেডিকেলে এসে ঠিক ফ্যামিলির ফটো ফ্রেম এর মতো মন...  sadness   \n",
       "1           1  অনেক দিন পর অন্য রকম অনুভূতি হচ্ছে  কেননা আমার...  sadness   \n",
       "2           2  আগে যতোটা বেশি পছন্দ করতাম দুশ্চরিত্রা মিথিলা ...  disgust   \n",
       "3           3  মাঝে মাঝে মনে হয় তোমাকে চাওয়াটা অনেক ভুল হয়ত ভ...  sadness   \n",
       "4           4  এখানে কাওকে কবর দিয়ো না তাহলে তোমাদের পরিবারের...     fear   \n",
       "\n",
       "   labels  \n",
       "0       1  \n",
       "1       1  \n",
       "2       3  \n",
       "3       1  \n",
       "4       5  "
      ]
     },
     "execution_count": 3,
     "metadata": {},
     "output_type": "execute_result"
    }
   ],
   "source": [
    "train_df.head()"
   ]
  },
  {
   "cell_type": "code",
   "execution_count": 4,
   "id": "5f70cdf8",
   "metadata": {},
   "outputs": [
    {
     "name": "stdout",
     "output_type": "stream",
     "text": [
      "<class 'pandas.core.frame.DataFrame'>\n",
      "RangeIndex: 5618 entries, 0 to 5617\n",
      "Data columns (total 4 columns):\n",
      " #   Column      Non-Null Count  Dtype \n",
      "---  ------      --------------  ----- \n",
      " 0   Unnamed: 0  5618 non-null   int64 \n",
      " 1   cleaned     5618 non-null   object\n",
      " 2   classes     5618 non-null   object\n",
      " 3   labels      5618 non-null   int64 \n",
      "dtypes: int64(2), object(2)\n",
      "memory usage: 175.7+ KB\n",
      "\n",
      "<class 'pandas.core.frame.DataFrame'>\n",
      "RangeIndex: 625 entries, 0 to 624\n",
      "Data columns (total 4 columns):\n",
      " #   Column      Non-Null Count  Dtype \n",
      "---  ------      --------------  ----- \n",
      " 0   Unnamed: 0  625 non-null    int64 \n",
      " 1   cleaned     625 non-null    object\n",
      " 2   classes     625 non-null    object\n",
      " 3   labels      625 non-null    int64 \n",
      "dtypes: int64(2), object(2)\n",
      "memory usage: 19.7+ KB\n",
      "\n"
     ]
    }
   ],
   "source": [
    "#checking for ull values\n",
    "train_df.info()\n",
    "print()\n",
    "test_df.info()\n",
    "print()\n",
    "#val_df.info()\n",
    "#print()"
   ]
  },
  {
   "cell_type": "code",
   "execution_count": 5,
   "id": "f7dc5157",
   "metadata": {},
   "outputs": [
    {
     "data": {
      "text/plain": [
       "disgust     1388\n",
       "sadness     1071\n",
       "joy         1028\n",
       "fear         789\n",
       "anger        688\n",
       "surprise     654\n",
       "Name: classes, dtype: int64"
      ]
     },
     "execution_count": 5,
     "metadata": {},
     "output_type": "execute_result"
    }
   ],
   "source": [
    "train_df[\"classes\"].value_counts()"
   ]
  },
  {
   "cell_type": "code",
   "execution_count": 6,
   "id": "7d5d210e",
   "metadata": {},
   "outputs": [
    {
     "data": {
      "text/plain": [
       "disgust     165\n",
       "sadness     119\n",
       "joy         114\n",
       "fear         83\n",
       "surprise     73\n",
       "anger        71\n",
       "Name: classes, dtype: int64"
      ]
     },
     "execution_count": 6,
     "metadata": {},
     "output_type": "execute_result"
    }
   ],
   "source": [
    "test_df[\"classes\"].value_counts()"
   ]
  },
  {
   "cell_type": "code",
   "execution_count": 8,
   "id": "3f417088",
   "metadata": {},
   "outputs": [],
   "source": [
    "#val_df[\"classes\"].value_counts()"
   ]
  },
  {
   "cell_type": "code",
   "execution_count": 9,
   "id": "053b4540",
   "metadata": {},
   "outputs": [
    {
     "name": "stdout",
     "output_type": "stream",
     "text": [
      "অনেক দিন পর অন্য রকম অনুভূতি হচ্ছে  কেননা আমার সদ্য পাশ করা শিক্ষার্থীর মত এখন আমিও বেকার বেকার পরিচয় দিয়ে আম্মার কাছ থেকে আজ পঞ্চাশ টাকা ডাকাতি করলাম \n"
     ]
    }
   ],
   "source": [
    "#sample text from dataset\n",
    "sample = train_df[\"cleaned\"][1]\n",
    "print(sample)"
   ]
  },
  {
   "cell_type": "code",
   "execution_count": 10,
   "id": "46623438",
   "metadata": {},
   "outputs": [],
   "source": [
    "x_train, x_test, y_train, y_test = train_df[\"cleaned\"], test_df[\"cleaned\"], train_df[\"labels\"], test_df[\"labels\"]"
   ]
  },
  {
   "cell_type": "code",
   "execution_count": 11,
   "id": "cb81d142",
   "metadata": {},
   "outputs": [],
   "source": [
    "from keras.utils import np_utils\n",
    "from keras.preprocessing.text import Tokenizer\n",
    "from keras.preprocessing.sequence import pad_sequences\n",
    "\n",
    "import tensorflow as tf\n",
    "from keras import layers\n",
    "from keras.models import Sequential\n",
    "\n",
    "EPOCHS= 35\n",
    "act= \"swish\"\n",
    "opt= tf.keras.optimizers.Adam(learning_rate=0.001)"
   ]
  },
  {
   "cell_type": "code",
   "execution_count": 12,
   "id": "5b775aeb",
   "metadata": {},
   "outputs": [],
   "source": [
    "#converting text to vectors via tokenization\n",
    "tokenizer = Tokenizer()\n",
    "tokenizer.fit_on_texts(x_train)\n",
    "\n",
    "X_train = tokenizer.texts_to_sequences(x_train)\n",
    "X_test = tokenizer.texts_to_sequences(x_test)\n",
    "TEST = tokenizer.texts_to_sequences(test_df[\"cleaned\"]) \n",
    "\n",
    "vocab_size = len(tokenizer.word_index) + 1 "
   ]
  },
  {
   "cell_type": "code",
   "execution_count": 13,
   "id": "79603d3f",
   "metadata": {},
   "outputs": [
    {
     "name": "stdout",
     "output_type": "stream",
     "text": [
      "Max len: 215\n"
     ]
    }
   ],
   "source": [
    "#calculating max length of the vector\n",
    "lens_train = [len(i) for i in X_train]\n",
    "lens_test = [len(i) for i in X_test]\n",
    "lens = lens_train + lens_test\n",
    "\n",
    "maxlen = np.max(lens)\n",
    "\n",
    "print('Max len:', maxlen)"
   ]
  },
  {
   "cell_type": "code",
   "execution_count": 14,
   "id": "bb495e40",
   "metadata": {},
   "outputs": [],
   "source": [
    "#Zero padding every vector so that they are the same size\n",
    "X_train = pad_sequences(X_train, padding='post', maxlen=maxlen)\n",
    "X_test = pad_sequences(X_test, padding='post', maxlen=maxlen)\n",
    "TEST = pad_sequences(TEST, padding='post', maxlen=maxlen)"
   ]
  },
  {
   "cell_type": "code",
   "execution_count": 15,
   "id": "bbfc3acc",
   "metadata": {},
   "outputs": [],
   "source": [
    "#One Hot Encoding integer labels\n",
    "dummy_y_test = np_utils.to_categorical(y_test)\n",
    "dummy_y_train = np_utils.to_categorical(y_train)"
   ]
  },
  {
   "cell_type": "code",
   "execution_count": 16,
   "id": "a914d44d",
   "metadata": {},
   "outputs": [],
   "source": [
    "#reading fasttext\n",
    "def get_embedding_vectors(tokenizer, dim=300):\n",
    "    embedding_index = {}\n",
    "    with open('cc.bn.300.vec','r', encoding=\"cp437\", errors='ignore') as f:\n",
    "        for line in tqdm.tqdm(f, \"Reading fasttext\"):\n",
    "            values = line.split()\n",
    "            word = ''.join(values[:-300])\n",
    "            vectors = np.asarray(values[-300:], dtype='float32')\n",
    "            embedding_index[word] = vectors\n",
    "\n",
    "    word_index = tokenizer.word_index\n",
    "    embedding_matrix = np.zeros((len(word_index)+1, dim))\n",
    "    for word, i in word_index.items():\n",
    "        embedding_vector = embedding_index.get(word)\n",
    "        if embedding_vector is not None:\n",
    "            # words not found will be 0s\n",
    "            embedding_matrix[i] = embedding_vector\n",
    "          \n",
    "    return embedding_matrix"
   ]
  },
  {
   "cell_type": "code",
   "execution_count": 17,
   "id": "c7afb8fc",
   "metadata": {},
   "outputs": [
    {
     "name": "stderr",
     "output_type": "stream",
     "text": [
      "Reading fasttext: 1468579it [03:42, 6614.60it/s] \n"
     ]
    }
   ],
   "source": [
    "embedding_matrix = get_embedding_vectors(tokenizer)"
   ]
  },
  {
   "cell_type": "code",
   "execution_count": 29,
   "id": "9a10d6e8",
   "metadata": {},
   "outputs": [
    {
     "name": "stdout",
     "output_type": "stream",
     "text": [
      "Model: \"sequential_4\"\n",
      "_________________________________________________________________\n",
      " Layer (type)                Output Shape              Param #   \n",
      "=================================================================\n",
      " embedding_4 (Embedding)     (None, 215, 300)          7426200   \n",
      "                                                                 \n",
      " dropout_20 (Dropout)        (None, 215, 300)          0         \n",
      "                                                                 \n",
      " conv1d_8 (Conv1D)           (None, 213, 64)           57664     \n",
      "                                                                 \n",
      " max_pooling1d_8 (MaxPooling  (None, 71, 64)           0         \n",
      " 1D)                                                             \n",
      "                                                                 \n",
      " dropout_21 (Dropout)        (None, 71, 64)            0         \n",
      "                                                                 \n",
      " conv1d_9 (Conv1D)           (None, 69, 64)            12352     \n",
      "                                                                 \n",
      " max_pooling1d_9 (MaxPooling  (None, 23, 64)           0         \n",
      " 1D)                                                             \n",
      "                                                                 \n",
      " dropout_22 (Dropout)        (None, 23, 64)            0         \n",
      "                                                                 \n",
      " bidirectional_4 (Bidirectio  (None, 512)              657408    \n",
      " nal)                                                            \n",
      "                                                                 \n",
      " dropout_23 (Dropout)        (None, 512)               0         \n",
      "                                                                 \n",
      " dense_8 (Dense)             (None, 256)               131328    \n",
      "                                                                 \n",
      " dropout_24 (Dropout)        (None, 256)               0         \n",
      "                                                                 \n",
      " dense_9 (Dense)             (None, 6)                 1542      \n",
      "                                                                 \n",
      "=================================================================\n",
      "Total params: 8,286,494\n",
      "Trainable params: 8,286,494\n",
      "Non-trainable params: 0\n",
      "_________________________________________________________________\n"
     ]
    }
   ],
   "source": [
    "#defining CNN-BiLSTM model\n",
    "embedding_dim = 300\n",
    "\n",
    "model = Sequential()\n",
    "model.add(layers.Embedding(input_dim=vocab_size, output_dim=embedding_dim, weights = [embedding_matrix], input_length=maxlen))\n",
    "model.add(layers.Dropout(0.3)) \n",
    "model.add(layers.Conv1D(filters=64, kernel_size=3, activation=act)) \n",
    "model.add(layers.MaxPool1D(pool_size=3)) \n",
    "model.add(layers.Dropout(0.3))\n",
    "model.add(layers.Conv1D(filters=64, kernel_size=3, activation=act)) \n",
    "model.add(layers.MaxPool1D(pool_size=3)) \n",
    "model.add(layers.Dropout(0.3))\n",
    "model.add(layers.Bidirectional(layers.LSTM(256, recurrent_dropout=0.3)))\n",
    "model.add(layers.Dropout(0.3))\n",
    "model.add(layers.Dense(256,activation=act)) \n",
    "model.add(layers.Dropout(0.3)) \n",
    "model.add(layers.Dense(6, activation=\"softmax\"))\n",
    "model.compile(optimizer=opt, loss=\"categorical_crossentropy\",metrics=[\"accuracy\"])\n",
    "model.summary()"
   ]
  },
  {
   "cell_type": "code",
   "execution_count": 30,
   "id": "079b4cb1",
   "metadata": {},
   "outputs": [],
   "source": [
    "checkpoint_filepath = './Checkpoint/checkpoint'\n",
    "model_checkpoint_callback = tf.keras.callbacks.ModelCheckpoint(\n",
    "    filepath=checkpoint_filepath,\n",
    "    save_weights_only=True,\n",
    "    monitor='test_accuracy',\n",
    "    mode='max',\n",
    "    save_best_only=True)"
   ]
  },
  {
   "cell_type": "code",
   "execution_count": 31,
   "id": "0fbfa69e",
   "metadata": {},
   "outputs": [
    {
     "name": "stdout",
     "output_type": "stream",
     "text": [
      "Epoch 1/35\n",
      "352/352 [==============================] - ETA: 0s - loss: 1.6408 - accuracy: 0.3078WARNING:tensorflow:Can save best model only with test_accuracy available, skipping.\n",
      "352/352 [==============================] - 103s 282ms/step - loss: 1.6408 - accuracy: 0.3078 - val_loss: 1.4532 - val_accuracy: 0.4176\n",
      "Epoch 2/35\n",
      "352/352 [==============================] - ETA: 0s - loss: 1.1999 - accuracy: 0.5310WARNING:tensorflow:Can save best model only with test_accuracy available, skipping.\n",
      "352/352 [==============================] - 98s 279ms/step - loss: 1.1999 - accuracy: 0.5310 - val_loss: 1.3108 - val_accuracy: 0.4960\n",
      "Epoch 3/35\n",
      "352/352 [==============================] - ETA: 0s - loss: 0.6930 - accuracy: 0.7262WARNING:tensorflow:Can save best model only with test_accuracy available, skipping.\n",
      "352/352 [==============================] - 109s 310ms/step - loss: 0.6930 - accuracy: 0.7262 - val_loss: 1.4580 - val_accuracy: 0.5280\n",
      "Epoch 4/35\n",
      "352/352 [==============================] - ETA: 0s - loss: 0.3602 - accuracy: 0.8633WARNING:tensorflow:Can save best model only with test_accuracy available, skipping.\n",
      "352/352 [==============================] - 104s 295ms/step - loss: 0.3602 - accuracy: 0.8633 - val_loss: 1.6708 - val_accuracy: 0.5568\n",
      "Epoch 5/35\n",
      "352/352 [==============================] - ETA: 0s - loss: 0.1893 - accuracy: 0.9393WARNING:tensorflow:Can save best model only with test_accuracy available, skipping.\n",
      "352/352 [==============================] - 118s 336ms/step - loss: 0.1893 - accuracy: 0.9393 - val_loss: 1.8387 - val_accuracy: 0.5616\n",
      "Epoch 6/35\n",
      "352/352 [==============================] - ETA: 0s - loss: 0.0997 - accuracy: 0.9706WARNING:tensorflow:Can save best model only with test_accuracy available, skipping.\n",
      "352/352 [==============================] - 119s 339ms/step - loss: 0.0997 - accuracy: 0.9706 - val_loss: 2.2802 - val_accuracy: 0.5568\n",
      "Epoch 7/35\n",
      "352/352 [==============================] - ETA: 0s - loss: 0.0714 - accuracy: 0.9818WARNING:tensorflow:Can save best model only with test_accuracy available, skipping.\n",
      "352/352 [==============================] - 107s 303ms/step - loss: 0.0714 - accuracy: 0.9818 - val_loss: 1.9575 - val_accuracy: 0.5696\n",
      "Epoch 8/35\n",
      "352/352 [==============================] - ETA: 0s - loss: 0.0572 - accuracy: 0.9858WARNING:tensorflow:Can save best model only with test_accuracy available, skipping.\n",
      "352/352 [==============================] - 102s 289ms/step - loss: 0.0572 - accuracy: 0.9858 - val_loss: 2.2565 - val_accuracy: 0.5600\n",
      "Epoch 9/35\n",
      "352/352 [==============================] - ETA: 0s - loss: 0.0416 - accuracy: 0.9899WARNING:tensorflow:Can save best model only with test_accuracy available, skipping.\n",
      "352/352 [==============================] - 100s 283ms/step - loss: 0.0416 - accuracy: 0.9899 - val_loss: 2.4510 - val_accuracy: 0.5616\n",
      "Epoch 10/35\n",
      "352/352 [==============================] - ETA: 0s - loss: 0.0340 - accuracy: 0.9902WARNING:tensorflow:Can save best model only with test_accuracy available, skipping.\n",
      "352/352 [==============================] - 99s 280ms/step - loss: 0.0340 - accuracy: 0.9902 - val_loss: 2.4338 - val_accuracy: 0.5552\n",
      "Epoch 11/35\n",
      "352/352 [==============================] - ETA: 0s - loss: 0.0287 - accuracy: 0.9897WARNING:tensorflow:Can save best model only with test_accuracy available, skipping.\n",
      "352/352 [==============================] - 98s 278ms/step - loss: 0.0287 - accuracy: 0.9897 - val_loss: 2.7207 - val_accuracy: 0.5728\n",
      "Epoch 12/35\n",
      "352/352 [==============================] - ETA: 0s - loss: 0.0372 - accuracy: 0.9886WARNING:tensorflow:Can save best model only with test_accuracy available, skipping.\n",
      "352/352 [==============================] - 100s 283ms/step - loss: 0.0372 - accuracy: 0.9886 - val_loss: 2.7552 - val_accuracy: 0.5648\n",
      "Epoch 13/35\n",
      "352/352 [==============================] - ETA: 0s - loss: 0.0326 - accuracy: 0.9904WARNING:tensorflow:Can save best model only with test_accuracy available, skipping.\n",
      "352/352 [==============================] - 105s 298ms/step - loss: 0.0326 - accuracy: 0.9904 - val_loss: 2.8140 - val_accuracy: 0.5680\n",
      "Epoch 14/35\n",
      "352/352 [==============================] - ETA: 0s - loss: 0.0347 - accuracy: 0.9904WARNING:tensorflow:Can save best model only with test_accuracy available, skipping.\n",
      "352/352 [==============================] - 102s 290ms/step - loss: 0.0347 - accuracy: 0.9904 - val_loss: 2.7223 - val_accuracy: 0.5536\n",
      "Epoch 15/35\n",
      "352/352 [==============================] - ETA: 0s - loss: 0.0396 - accuracy: 0.9891WARNING:tensorflow:Can save best model only with test_accuracy available, skipping.\n",
      "352/352 [==============================] - 101s 285ms/step - loss: 0.0396 - accuracy: 0.9891 - val_loss: 2.6038 - val_accuracy: 0.5712\n",
      "Epoch 16/35\n",
      "352/352 [==============================] - ETA: 0s - loss: 0.0288 - accuracy: 0.9915WARNING:tensorflow:Can save best model only with test_accuracy available, skipping.\n",
      "352/352 [==============================] - 99s 281ms/step - loss: 0.0288 - accuracy: 0.9915 - val_loss: 2.6971 - val_accuracy: 0.5696\n",
      "Epoch 17/35\n",
      "352/352 [==============================] - ETA: 0s - loss: 0.0256 - accuracy: 0.9904WARNING:tensorflow:Can save best model only with test_accuracy available, skipping.\n",
      "352/352 [==============================] - 98s 280ms/step - loss: 0.0256 - accuracy: 0.9904 - val_loss: 2.8017 - val_accuracy: 0.5888\n",
      "Epoch 18/35\n",
      "352/352 [==============================] - ETA: 0s - loss: 0.0276 - accuracy: 0.9911WARNING:tensorflow:Can save best model only with test_accuracy available, skipping.\n",
      "352/352 [==============================] - 99s 281ms/step - loss: 0.0276 - accuracy: 0.9911 - val_loss: 2.6077 - val_accuracy: 0.5840\n",
      "Epoch 19/35\n",
      "352/352 [==============================] - ETA: 0s - loss: 0.0277 - accuracy: 0.9922WARNING:tensorflow:Can save best model only with test_accuracy available, skipping.\n",
      "352/352 [==============================] - 102s 290ms/step - loss: 0.0277 - accuracy: 0.9922 - val_loss: 2.7764 - val_accuracy: 0.5792\n",
      "Epoch 20/35\n",
      "352/352 [==============================] - ETA: 0s - loss: 0.0186 - accuracy: 0.9925WARNING:tensorflow:Can save best model only with test_accuracy available, skipping.\n",
      "352/352 [==============================] - 99s 282ms/step - loss: 0.0186 - accuracy: 0.9925 - val_loss: 2.9281 - val_accuracy: 0.5808\n",
      "Epoch 21/35\n",
      "352/352 [==============================] - ETA: 0s - loss: 0.0138 - accuracy: 0.9950WARNING:tensorflow:Can save best model only with test_accuracy available, skipping.\n",
      "352/352 [==============================] - 105s 299ms/step - loss: 0.0138 - accuracy: 0.9950 - val_loss: 3.1417 - val_accuracy: 0.5760\n",
      "Epoch 22/35\n",
      "352/352 [==============================] - ETA: 0s - loss: 0.0210 - accuracy: 0.9934WARNING:tensorflow:Can save best model only with test_accuracy available, skipping.\n",
      "352/352 [==============================] - 112s 317ms/step - loss: 0.0210 - accuracy: 0.9934 - val_loss: 3.0192 - val_accuracy: 0.5552\n",
      "Epoch 23/35\n",
      "352/352 [==============================] - ETA: 0s - loss: 0.0208 - accuracy: 0.9938WARNING:tensorflow:Can save best model only with test_accuracy available, skipping.\n",
      "352/352 [==============================] - 163s 463ms/step - loss: 0.0208 - accuracy: 0.9938 - val_loss: 3.9253 - val_accuracy: 0.5568\n",
      "Epoch 24/35\n",
      "352/352 [==============================] - ETA: 0s - loss: 0.0263 - accuracy: 0.9929WARNING:tensorflow:Can save best model only with test_accuracy available, skipping.\n",
      "352/352 [==============================] - 168s 477ms/step - loss: 0.0263 - accuracy: 0.9929 - val_loss: 2.9371 - val_accuracy: 0.5616\n",
      "Epoch 25/35\n",
      "352/352 [==============================] - ETA: 0s - loss: 0.0188 - accuracy: 0.9938WARNING:tensorflow:Can save best model only with test_accuracy available, skipping.\n",
      "352/352 [==============================] - 166s 471ms/step - loss: 0.0188 - accuracy: 0.9938 - val_loss: 3.0221 - val_accuracy: 0.5536\n",
      "Epoch 26/35\n",
      "352/352 [==============================] - ETA: 0s - loss: 0.0150 - accuracy: 0.9938WARNING:tensorflow:Can save best model only with test_accuracy available, skipping.\n",
      "352/352 [==============================] - 164s 466ms/step - loss: 0.0150 - accuracy: 0.9938 - val_loss: 3.4150 - val_accuracy: 0.5744\n",
      "Epoch 27/35\n",
      "352/352 [==============================] - ETA: 0s - loss: 0.0230 - accuracy: 0.9932WARNING:tensorflow:Can save best model only with test_accuracy available, skipping.\n",
      "352/352 [==============================] - 164s 465ms/step - loss: 0.0230 - accuracy: 0.9932 - val_loss: 3.2108 - val_accuracy: 0.5600\n",
      "Epoch 28/35\n",
      "352/352 [==============================] - ETA: 0s - loss: 0.0156 - accuracy: 0.9939WARNING:tensorflow:Can save best model only with test_accuracy available, skipping.\n",
      "352/352 [==============================] - 166s 472ms/step - loss: 0.0156 - accuracy: 0.9939 - val_loss: 3.4508 - val_accuracy: 0.5280\n",
      "Epoch 29/35\n",
      "352/352 [==============================] - ETA: 0s - loss: 0.0218 - accuracy: 0.9922WARNING:tensorflow:Can save best model only with test_accuracy available, skipping.\n",
      "352/352 [==============================] - 170s 483ms/step - loss: 0.0218 - accuracy: 0.9922 - val_loss: 3.2969 - val_accuracy: 0.5648\n",
      "Epoch 30/35\n",
      "352/352 [==============================] - ETA: 0s - loss: 0.0190 - accuracy: 0.9941WARNING:tensorflow:Can save best model only with test_accuracy available, skipping.\n",
      "352/352 [==============================] - 158s 449ms/step - loss: 0.0190 - accuracy: 0.9941 - val_loss: 3.0813 - val_accuracy: 0.5712\n",
      "Epoch 31/35\n",
      "352/352 [==============================] - ETA: 0s - loss: 0.0202 - accuracy: 0.9927WARNING:tensorflow:Can save best model only with test_accuracy available, skipping.\n",
      "352/352 [==============================] - 159s 451ms/step - loss: 0.0202 - accuracy: 0.9927 - val_loss: 3.0693 - val_accuracy: 0.5680\n",
      "Epoch 32/35\n",
      "352/352 [==============================] - ETA: 0s - loss: 0.0136 - accuracy: 0.9956WARNING:tensorflow:Can save best model only with test_accuracy available, skipping.\n",
      "352/352 [==============================] - 160s 453ms/step - loss: 0.0136 - accuracy: 0.9956 - val_loss: 3.2039 - val_accuracy: 0.5664\n",
      "Epoch 33/35\n",
      "352/352 [==============================] - ETA: 0s - loss: 0.0153 - accuracy: 0.9941WARNING:tensorflow:Can save best model only with test_accuracy available, skipping.\n",
      "352/352 [==============================] - 162s 460ms/step - loss: 0.0153 - accuracy: 0.9941 - val_loss: 3.0351 - val_accuracy: 0.5648\n",
      "Epoch 34/35\n",
      "352/352 [==============================] - ETA: 0s - loss: 0.0166 - accuracy: 0.9943WARNING:tensorflow:Can save best model only with test_accuracy available, skipping.\n",
      "352/352 [==============================] - 160s 453ms/step - loss: 0.0166 - accuracy: 0.9943 - val_loss: 3.2117 - val_accuracy: 0.5456\n",
      "Epoch 35/35\n",
      "352/352 [==============================] - ETA: 0s - loss: 0.0156 - accuracy: 0.9947WARNING:tensorflow:Can save best model only with test_accuracy available, skipping.\n",
      "352/352 [==============================] - 165s 470ms/step - loss: 0.0156 - accuracy: 0.9947 - val_loss: 3.3206 - val_accuracy: 0.5568\n",
      "Training Accuracy: 0.9968\n",
      "Testing Accuracy:  0.5568\n"
     ]
    }
   ],
   "source": [
    "history = model.fit(X_train, dummy_y_train, epochs=EPOCHS, verbose=1, validation_data=(X_test, dummy_y_test), batch_size=16, callbacks=[model_checkpoint_callback]) \n",
    "loss, accuracy = model.evaluate(X_train, dummy_y_train, verbose=0)\n",
    "print(\"Training Accuracy: {:.4f}\".format(accuracy))\n",
    "loss, accuracy = model.evaluate(X_test, dummy_y_test, verbose=0)\n",
    "print(\"Testing Accuracy:  {:.4f}\".format(accuracy))"
   ]
  },
  {
   "cell_type": "code",
   "execution_count": 36,
   "id": "cb6cbf4b",
   "metadata": {},
   "outputs": [],
   "source": [
    "def PlotGraph(history):\n",
    "    acc = history.history['accuracy']\n",
    "    val_acc = history.history['val_accuracy']\n",
    "    loss = history.history['loss']\n",
    "    val_loss = history.history['val_loss']\n",
    "    x = range(1, len(acc) + 1)\n",
    "\n",
    "    plt.figure(figsize=(12, 5))\n",
    "    plt.subplot(1, 2, 1)\n",
    "    plt.plot(x, acc, 'g', label='Training acc')\n",
    "    plt.plot(x, val_acc, 'b', label='Validation acc')\n",
    "    plt.title('Training and validation accuracy')\n",
    "    plt.legend()\n",
    "    plt.subplot(1, 2, 2)\n",
    "    plt.plot(x, loss, 'g', label='Training loss')\n",
    "    plt.plot(x, val_loss, 'b', label='Validation loss')\n",
    "    plt.title('Training and validation loss')\n",
    "    plt.legend()"
   ]
  },
  {
   "cell_type": "code",
   "execution_count": 37,
   "id": "a3a1d6c9",
   "metadata": {},
   "outputs": [
    {
     "data": {
      "image/png": "[encoded data removed]",
      "text/plain": [
       "<Figure size 864x360 with 2 Axes>"
      ]
     },
     "metadata": {
      "needs_background": "light"
     },
     "output_type": "display_data"
    }
   ],
   "source": [
    "PlotGraph(history)"
   ]
  },
  {
   "cell_type": "code",
   "execution_count": 39,
   "id": "b2244f33",
   "metadata": {},
   "outputs": [
    {
     "name": "stdout",
     "output_type": "stream",
     "text": [
      "Best Accuracy Achieved by Model: 0.5888000130653381\n"
     ]
    }
   ],
   "source": [
    "print(f\"Best Accuracy Achieved by Model: {max(history.history['val_accuracy'])}\")"
   ]
  },
  {
   "cell_type": "code",
   "execution_count": 40,
   "id": "4eea3c67",
   "metadata": {},
   "outputs": [
    {
     "ename": "ValueError",
     "evalue": "Shapes (24754, 300) and (23087, 300) are incompatible",
     "output_type": "error",
     "traceback": [
      "\u001b[1;31m---------------------------------------------------------------------------\u001b[0m",
      "\u001b[1;31mValueError\u001b[0m                                Traceback (most recent call last)",
      "\u001b[1;32m<ipython-input-40-3f92b3ade396>\u001b[0m in \u001b[0;36m<module>\u001b[1;34m\u001b[0m\n\u001b[1;32m----> 1\u001b[1;33m \u001b[0mmodel\u001b[0m\u001b[1;33m.\u001b[0m\u001b[0mload_weights\u001b[0m\u001b[1;33m(\u001b[0m\u001b[0mcheckpoint_filepath\u001b[0m\u001b[1;33m)\u001b[0m\u001b[1;33m\u001b[0m\u001b[1;33m\u001b[0m\u001b[0m\n\u001b[0m",
      "\u001b[1;32m~\\anaconda3\\lib\\site-packages\\keras\\utils\\traceback_utils.py\u001b[0m in \u001b[0;36merror_handler\u001b[1;34m(*args, **kwargs)\u001b[0m\n\u001b[0;32m     65\u001b[0m     \u001b[1;32mexcept\u001b[0m \u001b[0mException\u001b[0m \u001b[1;32mas\u001b[0m \u001b[0me\u001b[0m\u001b[1;33m:\u001b[0m  \u001b[1;31m# pylint: disable=broad-except\u001b[0m\u001b[1;33m\u001b[0m\u001b[1;33m\u001b[0m\u001b[0m\n\u001b[0;32m     66\u001b[0m       \u001b[0mfiltered_tb\u001b[0m \u001b[1;33m=\u001b[0m \u001b[0m_process_traceback_frames\u001b[0m\u001b[1;33m(\u001b[0m\u001b[0me\u001b[0m\u001b[1;33m.\u001b[0m\u001b[0m__traceback__\u001b[0m\u001b[1;33m)\u001b[0m\u001b[1;33m\u001b[0m\u001b[1;33m\u001b[0m\u001b[0m\n\u001b[1;32m---> 67\u001b[1;33m       \u001b[1;32mraise\u001b[0m \u001b[0me\u001b[0m\u001b[1;33m.\u001b[0m\u001b[0mwith_traceback\u001b[0m\u001b[1;33m(\u001b[0m\u001b[0mfiltered_tb\u001b[0m\u001b[1;33m)\u001b[0m \u001b[1;32mfrom\u001b[0m \u001b[1;32mNone\u001b[0m\u001b[1;33m\u001b[0m\u001b[1;33m\u001b[0m\u001b[0m\n\u001b[0m\u001b[0;32m     68\u001b[0m     \u001b[1;32mfinally\u001b[0m\u001b[1;33m:\u001b[0m\u001b[1;33m\u001b[0m\u001b[1;33m\u001b[0m\u001b[0m\n\u001b[0;32m     69\u001b[0m       \u001b[1;32mdel\u001b[0m \u001b[0mfiltered_tb\u001b[0m\u001b[1;33m\u001b[0m\u001b[1;33m\u001b[0m\u001b[0m\n",
      "\u001b[1;32m~\\anaconda3\\lib\\site-packages\\tensorflow\\python\\framework\\tensor_shape.py\u001b[0m in \u001b[0;36massert_is_compatible_with\u001b[1;34m(self, other)\u001b[0m\n\u001b[0;32m   1169\u001b[0m     \"\"\"\n\u001b[0;32m   1170\u001b[0m     \u001b[1;32mif\u001b[0m \u001b[1;32mnot\u001b[0m \u001b[0mself\u001b[0m\u001b[1;33m.\u001b[0m\u001b[0mis_compatible_with\u001b[0m\u001b[1;33m(\u001b[0m\u001b[0mother\u001b[0m\u001b[1;33m)\u001b[0m\u001b[1;33m:\u001b[0m\u001b[1;33m\u001b[0m\u001b[1;33m\u001b[0m\u001b[0m\n\u001b[1;32m-> 1171\u001b[1;33m       \u001b[1;32mraise\u001b[0m \u001b[0mValueError\u001b[0m\u001b[1;33m(\u001b[0m\u001b[1;34m\"Shapes %s and %s are incompatible\"\u001b[0m \u001b[1;33m%\u001b[0m \u001b[1;33m(\u001b[0m\u001b[0mself\u001b[0m\u001b[1;33m,\u001b[0m \u001b[0mother\u001b[0m\u001b[1;33m)\u001b[0m\u001b[1;33m)\u001b[0m\u001b[1;33m\u001b[0m\u001b[1;33m\u001b[0m\u001b[0m\n\u001b[0m\u001b[0;32m   1172\u001b[0m \u001b[1;33m\u001b[0m\u001b[0m\n\u001b[0;32m   1173\u001b[0m   \u001b[1;32mdef\u001b[0m \u001b[0mmost_specific_compatible_shape\u001b[0m\u001b[1;33m(\u001b[0m\u001b[0mself\u001b[0m\u001b[1;33m,\u001b[0m \u001b[0mother\u001b[0m\u001b[1;33m)\u001b[0m\u001b[1;33m:\u001b[0m\u001b[1;33m\u001b[0m\u001b[1;33m\u001b[0m\u001b[0m\n",
      "\u001b[1;31mValueError\u001b[0m: Shapes (24754, 300) and (23087, 300) are incompatible"
     ]
    }
   ],
   "source": [
    "model.load_weights(checkpoint_filepath)"
   ]
  },
  {
   "cell_type": "code",
   "execution_count": 41,
   "id": "1f4cc737",
   "metadata": {},
   "outputs": [
    {
     "data": {
      "text/plain": [
       "array([0, 1, 3, 3, 0, 3, 4, 1, 2, 5, 3, 4, 3, 3, 3, 2, 4, 3, 4, 1, 3, 4,\n",
       "       3, 4, 2, 1, 4, 4, 0, 0, 5, 5, 0, 1, 3, 0, 4, 3, 1, 3, 3, 1, 3, 1,\n",
       "       4, 3, 1, 5, 0, 0, 3, 0, 3, 3, 5, 5, 3, 2, 4, 3, 1, 0, 4, 0, 3, 4,\n",
       "       4, 0, 0, 2, 5, 5, 0, 0, 3, 1, 1, 2, 1, 3, 4, 3, 1, 5, 1, 0, 2, 4,\n",
       "       0, 3, 5, 2, 3, 3, 4, 0, 2, 3, 1, 0, 2, 0, 3, 1, 1, 0, 5, 1, 3, 5,\n",
       "       3, 1, 5, 0, 1, 4, 2, 5, 0, 2, 5, 0, 2, 5, 0, 1, 3, 3, 0, 1, 5, 3,\n",
       "       1, 3, 2, 5, 0, 2, 3, 3, 1, 1, 0, 3, 4, 0, 5, 5, 5, 3, 1, 0, 1, 1,\n",
       "       2, 2, 1, 3, 0, 0, 1, 3, 3, 3, 5, 2, 5, 1, 0, 1, 2, 3, 1, 5, 1, 0,\n",
       "       1, 0, 4, 1, 1, 1, 3, 0, 3, 5, 0, 1, 4, 2, 2, 3, 5, 0, 0, 3, 4, 5,\n",
       "       3, 1, 1, 0, 3, 4, 1, 1, 3, 3, 0, 5, 3, 1, 2, 3, 2, 5, 5, 0, 1, 3,\n",
       "       0, 3, 3, 3, 5, 1, 1, 3, 3, 4, 3, 3, 1, 1, 3, 3, 3, 2, 3, 5, 1, 0,\n",
       "       3, 3, 5, 2, 3, 0, 1, 0, 1, 4, 3, 0, 0, 4, 4, 0, 1, 1, 1, 2, 2, 1,\n",
       "       0, 0, 3, 3, 5, 4, 5, 3, 1, 0, 1, 3, 0, 3, 4, 3, 1, 5, 0, 4, 4, 5,\n",
       "       3, 0, 0, 0, 3, 5, 0, 0, 2, 4, 1, 0, 5, 4, 1, 3, 2, 1, 3, 5, 4, 3,\n",
       "       0, 2, 1, 0, 0, 0, 3, 0, 3, 0, 0, 1, 3, 4, 1, 5, 4, 2, 4, 4, 3, 1,\n",
       "       0, 2, 3, 0, 3, 0, 2, 0, 5, 2, 3, 1, 5, 1, 2, 1, 3, 0, 0, 3, 0, 1,\n",
       "       0, 4, 5, 2, 3, 1, 1, 1, 2, 0, 2, 1, 0, 3, 0, 2, 2, 1, 2, 3, 2, 1,\n",
       "       0, 5, 2, 3, 3, 4, 1, 3, 0, 5, 0, 2, 5, 3, 3, 5, 0, 1, 4, 4, 0, 2,\n",
       "       2, 5, 1, 3, 0, 3, 3, 1, 0, 3, 0, 2, 1, 5, 4, 4, 3, 5, 2, 5, 2, 2,\n",
       "       0, 5, 3, 2, 5, 1, 0, 0, 5, 3, 3, 5, 4, 4, 1, 3, 3, 5, 3, 0, 2, 0,\n",
       "       3, 1, 5, 0, 2, 1, 2, 3, 2, 0, 1, 3, 3, 0, 1, 5, 2, 5, 3, 2, 1, 3,\n",
       "       0, 4, 0, 2, 2, 0, 3, 0, 2, 1, 0, 5, 3, 3, 3, 3, 0, 3, 0, 1, 0, 5,\n",
       "       4, 1, 4, 3, 0, 2, 4, 1, 1, 1, 1, 1, 1, 3, 1, 3, 0, 4, 3, 1, 4, 2,\n",
       "       5, 0, 3, 2, 0, 3, 0, 1, 5, 0, 3, 0, 5, 3, 0, 0, 3, 3, 3, 3, 3, 5,\n",
       "       2, 3, 3, 5, 3, 0, 0, 5, 3, 0, 3, 4, 1, 0, 3, 3, 0, 1, 0, 5, 1, 3,\n",
       "       3, 4, 1, 0, 3, 0, 3, 0, 2, 5, 1, 0, 1, 5, 0, 4, 1, 2, 5, 1, 4, 3,\n",
       "       4, 3, 3, 3, 1, 5, 3, 0, 0, 0, 1, 3, 5, 0, 1, 0, 1, 3, 3, 1, 0, 4,\n",
       "       3, 3, 0, 0, 5, 4, 0, 3, 1, 3, 3, 4, 4, 2, 4, 2, 3, 5, 3, 4, 3, 3,\n",
       "       5, 3, 3, 2, 0, 0, 5, 0, 1], dtype=int64)"
      ]
     },
     "execution_count": 41,
     "metadata": {},
     "output_type": "execute_result"
    }
   ],
   "source": [
    "predict = model.predict(TEST)\n",
    "predict_class = np.argmax(predict, axis=1)\n",
    "predict_class = np.array(predict_class)\n",
    "predict_class"
   ]
  },
  {
   "cell_type": "code",
   "execution_count": 42,
   "id": "07fbb8f2",
   "metadata": {},
   "outputs": [
    {
     "data": {
      "text/plain": [
       "array([[ 77,  19,   7,   7,   3,   1],\n",
       "       [ 25,  51,   5,  20,  11,   7],\n",
       "       [ 13,  13,  28,   1,   4,  14],\n",
       "       [ 10,  17,   6, 114,  17,   1],\n",
       "       [  6,   6,   8,  22,  26,   3],\n",
       "       [  3,  10,  15,   1,   2,  52]], dtype=int64)"
      ]
     },
     "execution_count": 42,
     "metadata": {},
     "output_type": "execute_result"
    }
   ],
   "source": [
    "from sklearn.metrics import confusion_matrix\n",
    "\n",
    "cm = confusion_matrix(test_df[\"labels\"], predict_class)\n",
    "cm"
   ]
  },
  {
   "cell_type": "code",
   "execution_count": 43,
   "id": "d6d34c1e",
   "metadata": {},
   "outputs": [
    {
     "data": {
      "text/plain": [
       "<AxesSubplot:>"
      ]
     },
     "execution_count": 43,
     "metadata": {},
     "output_type": "execute_result"
    },
    {
     "data": {
      "image/png": "[encoded data removed]",
      "text/plain": [
       "<Figure size 720x504 with 2 Axes>"
      ]
     },
     "metadata": {
      "needs_background": "light"
     },
     "output_type": "display_data"
    }
   ],
   "source": [
    "df_cm = pd.DataFrame(cm, index=[\"anger\", \"fear\", \"joy\", \"disgust\", \"sadness\", \"surprise\"], columns=[\"anger\", \"fear\", \"joy\", \"disgust\", \"sadness\", \"surprise\"])\n",
    "plt.figure(figsize = (10,7))\n",
    "sns.heatmap(df_cm,annot=True, fmt =\"d\")"
   ]
  },
  {
   "cell_type": "code",
   "execution_count": 44,
   "id": "cc35fbc5",
   "metadata": {},
   "outputs": [
    {
     "name": "stdout",
     "output_type": "stream",
     "text": [
      "              precision    recall  f1-score   support\n",
      "\n",
      "       anger       0.57      0.68      0.62       114\n",
      "        fear       0.44      0.43      0.43       119\n",
      "         joy       0.41      0.38      0.39        73\n",
      "     disgust       0.69      0.69      0.69       165\n",
      "     sadness       0.41      0.37      0.39        71\n",
      "    surprise       0.67      0.63      0.65        83\n",
      "\n",
      "    accuracy                           0.56       625\n",
      "   macro avg       0.53      0.53      0.53       625\n",
      "weighted avg       0.55      0.56      0.55       625\n",
      "\n"
     ]
    }
   ],
   "source": [
    "from sklearn.metrics import classification_report\n",
    "\n",
    "print(classification_report(test_df[\"labels\"], predict_class, target_names =[\"anger\", \"fear\", \"joy\", \"disgust\", \"sadness\", \"surprise\"]))"
   ]
  },
  {
   "cell_type": "code",
   "execution_count": null,
   "id": "6ee1c297",
   "metadata": {},
   "outputs": [],
   "source": []
  }
 ],
 "metadata": {
  "kernelspec": {
   "display_name": "Python 3",
   "language": "python",
   "name": "python3"
  },
  "language_info": {
   "codemirror_mode": {
    "name": "ipython",
    "version": 3
   },
   "file_extension": ".py",
   "mimetype": "text/x-python",
   "name": "python",
   "nbconvert_exporter": "python",
   "pygments_lexer": "ipython3",
   "version": "3.8.8"
  }
 },
 "nbformat": 4,
 "nbformat_minor": 5
}
